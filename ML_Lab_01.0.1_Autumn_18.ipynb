{
 "cells": [
  {
   "cell_type": "markdown",
   "metadata": {},
   "source": [
    "# Machine Learning LAB , Autumn 2018  "
   ]
  },
  {
   "cell_type": "markdown",
   "metadata": {},
   "source": [
    "### arif-cse@metoruni.edu.bd"
   ]
  },
  {
   "cell_type": "markdown",
   "metadata": {},
   "source": [
    "## NumPy\n",
    " "
   ]
  },
  {
   "cell_type": "markdown",
   "metadata": {},
   "source": [
    "### Arrays "
   ]
  },
  {
   "cell_type": "code",
   "execution_count": 1,
   "metadata": {},
   "outputs": [
    {
     "name": "stdout",
     "output_type": "stream",
     "text": [
      "Numpy version =1.13.3\n",
      "\n",
      "\n",
      "A = [0 1 2 3 4 5]\n",
      "A.shape= (6,) <type 'numpy.ndarray'>\n",
      "A.ndim= 1\n",
      "\n",
      "\n",
      "B = [[0 1]\n",
      " [2 3]\n",
      " [4 5]]\n",
      "B.shape= (3, 2) <type 'numpy.ndarray'>\n",
      "B.ndim= 2\n"
     ]
    }
   ],
   "source": [
    "#import numpy \n",
    "import numpy as  np \n",
    "# we certainly should not do the following:\n",
    "# from numpy import *\n",
    "\n",
    "# check version\n",
    "print 'Numpy version ='+np.version.full_version\n",
    "print '\\n'\n",
    "\n",
    "# numpy Array \n",
    "A = np.array([0,1,2,3,4,5])\n",
    "print 'A =', A\n",
    "print 'A.shape=', A.shape , type(A)\n",
    "print 'A.ndim=', A.ndim\n",
    "print '\\n'\n",
    "\n",
    "B = A.reshape((3,2))\n",
    "print 'B =',  B \n",
    "print 'B.shape=', B.shape, type(B)\n",
    "print 'B.ndim=', B.ndim\n"
   ]
  },
  {
   "cell_type": "code",
   "execution_count": 2,
   "metadata": {},
   "outputs": [
    {
     "name": "stdout",
     "output_type": "stream",
     "text": [
      "array1= \n",
      "[[ 0.  0.  0.  0.]\n",
      " [ 0.  0.  0.  0.]\n",
      " [ 0.  0.  0.  0.]\n",
      " [ 0.  0.  0.  0.]]\n",
      "\n"
     ]
    }
   ],
   "source": [
    "# Create a 4x4 array of all zeros\n",
    "array1 = np.zeros((4,4))\n",
    "print 'array1=','\\n',array1\n",
    "print \n"
   ]
  },
  {
   "cell_type": "code",
   "execution_count": 3,
   "metadata": {},
   "outputs": [
    {
     "name": "stdout",
     "output_type": "stream",
     "text": [
      "array2= \n",
      "[[ 1.  1.  1.  1.]\n",
      " [ 1.  1.  1.  1.]\n",
      " [ 1.  1.  1.  1.]\n",
      " [ 1.  1.  1.  1.]]\n",
      "\n"
     ]
    }
   ],
   "source": [
    "# Create a 4x4 array of all ones\n",
    "array2 = np.ones((4,4))\n",
    "print 'array2=','\\n', array2\n",
    "print "
   ]
  },
  {
   "cell_type": "code",
   "execution_count": 4,
   "metadata": {},
   "outputs": [
    {
     "name": "stdout",
     "output_type": "stream",
     "text": [
      "array3=\n",
      "[[5 5 5 5]\n",
      " [5 5 5 5]\n",
      " [5 5 5 5]\n",
      " [5 5 5 5]]\n",
      "\n"
     ]
    }
   ],
   "source": [
    "# Create a 4x4 constant array\n",
    "array3 = np.full((4,4), 5)\n",
    "print 'array3=\\n', array3\n",
    "print \n"
   ]
  },
  {
   "cell_type": "code",
   "execution_count": 5,
   "metadata": {},
   "outputs": [
    {
     "name": "stdout",
     "output_type": "stream",
     "text": [
      "array4= \n",
      "[[ 0.13271625  0.49300019  0.79321644  0.29777175]\n",
      " [ 0.90681354  0.67406747  0.03596549  0.4819682 ]\n",
      " [ 0.39391679  0.57860466  0.74701169  0.61635215]\n",
      " [ 0.0433275   0.73072886  0.88185018  0.27811524]]\n",
      "\n"
     ]
    }
   ],
   "source": [
    "# Create a 4x4 array filled with random values\n",
    "array4 = np.random.random((4,4))\n",
    "print 'array4=','\\n',array4\n",
    "print "
   ]
  },
  {
   "cell_type": "code",
   "execution_count": 6,
   "metadata": {},
   "outputs": [
    {
     "name": "stdout",
     "output_type": "stream",
     "text": [
      "Identity matrix, e= \n",
      "[[ 1.  0.  0.  0.]\n",
      " [ 0.  1.  0.  0.]\n",
      " [ 0.  0.  1.  0.]\n",
      " [ 0.  0.  0.  1.]]\n"
     ]
    }
   ],
   "source": [
    "# Create a 4x4 identity matrix\n",
    "e = np.eye(4)\n",
    "print 'Identity matrix, e=', '\\n',e"
   ]
  },
  {
   "cell_type": "code",
   "execution_count": 7,
   "metadata": {},
   "outputs": [
    {
     "name": "stdout",
     "output_type": "stream",
     "text": [
      "[2 3 1 0]\n"
     ]
    }
   ],
   "source": [
    "# convert list to array\n",
    "f = np.array([2, 3, 1, 0])\n",
    "print f\n"
   ]
  },
  {
   "cell_type": "code",
   "execution_count": 8,
   "metadata": {},
   "outputs": [
    {
     "name": "stdout",
     "output_type": "stream",
     "text": [
      "[ 0  1  2  3  4  5  6  7  8  9 10 11 12 13 14 15 16 17 18 19]\n"
     ]
    }
   ],
   "source": [
    "# arange() will create arrays with regularly incrementing values\n",
    "g = np.arange(20)\n",
    "print g\n"
   ]
  },
  {
   "cell_type": "code",
   "execution_count": 9,
   "metadata": {},
   "outputs": [
    {
     "name": "stdout",
     "output_type": "stream",
     "text": [
      "[[ 0.+0.j  1.+0.j  2.+0.j]\n",
      " [ 0.+0.j  0.+0.j  0.+0.j]\n",
      " [ 1.+1.j  3.+0.j  2.+0.j]]\n"
     ]
    }
   ],
   "source": [
    "# note mix of tuple and lists\n",
    "h = np.array([[0, 1,2.0],[0,0,0],(1+1j,3.,2.)])\n",
    "print h"
   ]
  },
  {
   "cell_type": "code",
   "execution_count": 10,
   "metadata": {},
   "outputs": [
    {
     "name": "stdout",
     "output_type": "stream",
     "text": [
      "[ 1.  2.  3.  4.  5.  6.  7.]\n"
     ]
    }
   ],
   "source": [
    "# create an array of range with float data type\n",
    "i = np.arange(1, 8, dtype=np.float)\n",
    "print i"
   ]
  },
  {
   "cell_type": "code",
   "execution_count": 11,
   "metadata": {},
   "outputs": [
    {
     "name": "stdout",
     "output_type": "stream",
     "text": [
      "[ 2.   2.5  3.   3.5  4. ]\n"
     ]
    }
   ],
   "source": [
    "# linspace() will create arrays with a specified number of items which are\n",
    "# spaced equally between the specified beginning and end values\n",
    "j = np.linspace(2., 4., 5)\n",
    "print j"
   ]
  },
  {
   "cell_type": "code",
   "execution_count": 12,
   "metadata": {},
   "outputs": [
    {
     "name": "stdout",
     "output_type": "stream",
     "text": [
      "[[[0 0]\n",
      "  [1 1]]\n",
      "\n",
      " [[0 1]\n",
      "  [0 1]]]\n"
     ]
    }
   ],
   "source": [
    "# indices() will create a set of arrays stacked as a one-higher dimensioned array, \n",
    "#one per dimension with each representing variation in that dimension\n",
    "k = np.indices((2,2))\n",
    "print k"
   ]
  },
  {
   "cell_type": "markdown",
   "metadata": {},
   "source": [
    "### Data Types"
   ]
  },
  {
   "cell_type": "code",
   "execution_count": 13,
   "metadata": {},
   "outputs": [
    {
     "name": "stdout",
     "output_type": "stream",
     "text": [
      "int32 float64 int64\n"
     ]
    }
   ],
   "source": [
    "# Let numpy choose the datatype\n",
    "x = np.array([0, 1])\n",
    "y = np.array([2.0, 3.0])\n",
    "# Force a particular datatype\n",
    "z = np.array([5, 6], dtype=np.int64)\n",
    "print x.dtype, y.dtype, z.dtype"
   ]
  },
  {
   "cell_type": "markdown",
   "metadata": {},
   "source": [
    "## Array Indexing \n",
    "### Field Access"
   ]
  },
  {
   "cell_type": "code",
   "execution_count": 14,
   "metadata": {},
   "outputs": [
    {
     "name": "stdout",
     "output_type": "stream",
     "text": [
      "x['a'].shape:  (3, 3)\n",
      "x['a'].dtype:  int32\n",
      "x['b'].shape:  (3, 3, 3, 3)\n",
      "x['b'].dtype:  float64\n"
     ]
    }
   ],
   "source": [
    "x = np.zeros((3,3), dtype=[('a', np.int32), ('b', np.float64, (3,3))])\n",
    "print \"x['a'].shape: \",x['a'].shape\n",
    "print \"x['a'].dtype: \", x['a'].dtype\n",
    "print \"x['b'].shape: \", x['b'].shape\n",
    "print \"x['b'].dtype: \", x['b'].dtype"
   ]
  },
  {
   "cell_type": "markdown",
   "metadata": {},
   "source": [
    "### Basic Slicing"
   ]
  },
  {
   "cell_type": "code",
   "execution_count": 15,
   "metadata": {},
   "outputs": [
    {
     "name": "stdout",
     "output_type": "stream",
     "text": [
      "[8 9]\n",
      "[9 8 7]\n"
     ]
    },
    {
     "data": {
      "text/plain": [
       "array([9])"
      ]
     },
     "execution_count": 15,
     "metadata": {},
     "output_type": "execute_result"
    }
   ],
   "source": [
    "x = np.array([5, 6, 7, 8, 9])\n",
    "x[1:7:2]\n",
    "\n",
    "print x[-2:5]\n",
    "print x[-1:1:-1]\n",
    "x[4:]"
   ]
  },
  {
   "cell_type": "code",
   "execution_count": 16,
   "metadata": {},
   "outputs": [
    {
     "name": "stdout",
     "output_type": "stream",
     "text": [
      "Shape of y:  (5,)\n"
     ]
    },
    {
     "data": {
      "text/plain": [
       "array(5)"
      ]
     },
     "execution_count": 16,
     "metadata": {},
     "output_type": "execute_result"
    }
   ],
   "source": [
    "y = np.array([[[1],[2],[3]], [[4],[5],[6]]])\n",
    "print \"Shape of y: \", x.shape\n",
    "y[1:3]\n",
    "\n",
    "x[...,0]\n"
   ]
  },
  {
   "cell_type": "code",
   "execution_count": 17,
   "metadata": {},
   "outputs": [
    {
     "name": "stdout",
     "output_type": "stream",
     "text": [
      "Array a: [[ 5  6  7  8]\n",
      " [ 1  2  3  4]\n",
      " [ 9 10 11 12]]\n"
     ]
    }
   ],
   "source": [
    "# Create a rank 2 array with shape (3, 4)\n",
    "a = np.array([[5,6,7,8], [1,2,3,4], [9,10,11,12]])\n",
    "print \"Array a:\", a"
   ]
  },
  {
   "cell_type": "code",
   "execution_count": 18,
   "metadata": {},
   "outputs": [
    {
     "name": "stdout",
     "output_type": "stream",
     "text": [
      "Array b: [[6 7]\n",
      " [2 3]]\n"
     ]
    }
   ],
   "source": [
    "# Use slicing to pull out the subarray consisting of the first 2 rows\n",
    "# and columns 1 and 2; b is the following array of shape (2, 2):\n",
    "# [[2 3]\n",
    "# [6 7]]\n",
    "b = a[:2, 1:3]\n",
    "print \"Array b:\", b"
   ]
  },
  {
   "cell_type": "code",
   "execution_count": 19,
   "metadata": {},
   "outputs": [
    {
     "name": "stdout",
     "output_type": "stream",
     "text": [
      "6\n",
      "77\n"
     ]
    }
   ],
   "source": [
    "print a[0, 1]\n",
    "b[0, 0] = 77\n",
    "print a[0, 1]"
   ]
  },
  {
   "cell_type": "code",
   "execution_count": 20,
   "metadata": {},
   "outputs": [
    {
     "name": "stdout",
     "output_type": "stream",
     "text": [
      "[1 2 3 4] (4,)\n",
      "[[1 2 3 4]] (1, 4)\n"
     ]
    }
   ],
   "source": [
    "row_r1 = a[1,:]# Rank 1 view of the second row of a\n",
    "row_r2 = a[1:2,:]# Rank 2 view of the second row of a\n",
    "print row_r1, row_r1.shape # Prints \"[5 6 7 8] (4,)\"\n",
    "print row_r2, row_r2.shape # Prints \"[[5 6 7 8]] (1, 4)\""
   ]
  },
  {
   "cell_type": "code",
   "execution_count": 21,
   "metadata": {},
   "outputs": [
    {
     "name": "stdout",
     "output_type": "stream",
     "text": [
      "[77  2 10] (3,)\n",
      "[[77]\n",
      " [ 2]\n",
      " [10]] (3, 1)\n"
     ]
    }
   ],
   "source": [
    "# We can make the same distinction when accessing columns of an array:\n",
    "col_r1 = a[:, 1]\n",
    "col_r2 = a[:, 1:2]\n",
    "print col_r1, col_r1.shape # Prints \"[ 2 6 10] (3,)\"\n",
    "print col_r2, col_r2.shape"
   ]
  }
 ],
 "metadata": {
  "kernelspec": {
   "display_name": "Python 2",
   "language": "python",
   "name": "python2"
  },
  "language_info": {
   "codemirror_mode": {
    "name": "ipython",
    "version": 2
   },
   "file_extension": ".py",
   "mimetype": "text/x-python",
   "name": "python",
   "nbconvert_exporter": "python",
   "pygments_lexer": "ipython2",
   "version": "2.7.14"
  }
 },
 "nbformat": 4,
 "nbformat_minor": 2
}
